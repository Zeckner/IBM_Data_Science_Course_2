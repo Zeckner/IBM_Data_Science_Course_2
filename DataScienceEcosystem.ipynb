{
 "cells": [
  {
   "cell_type": "markdown",
   "id": "705a3fab-3a5f-41e9-8fca-da5e0c9ea374",
   "metadata": {},
   "source": [
    "# Data Science Tools and Ecosystem"
   ]
  },
  {
   "cell_type": "markdown",
   "id": "f264d22f-240c-4f2b-8225-8dbcc8169e0f",
   "metadata": {},
   "source": [
    "In this notebook, Data Science Tools and Ecosystem are summarized."
   ]
  },
  {
   "cell_type": "markdown",
   "id": "9db00c18-c63c-4569-814d-c8e1f2262c53",
   "metadata": {},
   "source": [
    "**Objectives:**\n",
    "* List popular languages for Data Scientists\n",
    "* List popular libraries for Data Scientists\n",
    "* List popular data science tools"
   ]
  },
  {
   "cell_type": "markdown",
   "id": "c53eab86-8839-4ac8-8b14-8ae8f1fba813",
   "metadata": {},
   "source": [
    "Some of the popular languages that Data Scientists use are:\n",
    "1. Python\n",
    "2. R\n",
    "3. Scala\n",
    "4. Julia\n",
    "5. C++"
   ]
  },
  {
   "cell_type": "markdown",
   "id": "529e737b-7cbf-4cdf-b63c-e59369744956",
   "metadata": {},
   "source": [
    "Some of the commonly used libraries used by Data Scientists include:\n",
    "1. Pandas\n",
    "2. NumPy\n",
    "3. TensorFlow\n",
    "4. Seaborn\n",
    "5. Keras"
   ]
  },
  {
   "cell_type": "markdown",
   "id": "eab8a710-f879-4c25-82d6-9808afa24687",
   "metadata": {},
   "source": [
    "|Data Science Tools|\n",
    "|---------- |\n",
    "|Jupyter Notebook|\n",
    "|Apache Spark|\n",
    "|Apache Hadoop|\n"
   ]
  },
  {
   "cell_type": "markdown",
   "id": "462aa283-2619-4180-9475-720c94fab45b",
   "metadata": {},
   "source": [
    "### Below are a few examples of evaluating arithmetic expressions in Python"
   ]
  },
  {
   "cell_type": "code",
   "execution_count": 2,
   "id": "38317eb5-cd76-43ca-a5d2-118851823af1",
   "metadata": {
    "tags": []
   },
   "outputs": [
    {
     "data": {
      "text/plain": [
       "17"
      ]
     },
     "execution_count": 2,
     "metadata": {},
     "output_type": "execute_result"
    }
   ],
   "source": [
    "#This a simple arithmetic expression to multiply then add integers.\n",
    "(3*4)+5"
   ]
  },
  {
   "cell_type": "code",
   "execution_count": 3,
   "id": "a1cb3abf-2980-40d3-91f4-4d3d90b75a6c",
   "metadata": {
    "tags": []
   },
   "outputs": [
    {
     "data": {
      "text/plain": [
       "3.3333333333333335"
      ]
     },
     "execution_count": 3,
     "metadata": {},
     "output_type": "execute_result"
    }
   ],
   "source": [
    "#This will convert 200 minutes to hours by dividing by 60.\n",
    "200 / 60"
   ]
  },
  {
   "cell_type": "markdown",
   "id": "effc035d-c65d-4c18-9e39-a6f46444cca0",
   "metadata": {},
   "source": [
    "## Author\n",
    "Matthew Zeckner"
   ]
  }
 ],
 "metadata": {
  "kernelspec": {
   "display_name": "Python",
   "language": "python",
   "name": "conda-env-python-py"
  },
  "language_info": {
   "codemirror_mode": {
    "name": "ipython",
    "version": 3
   },
   "file_extension": ".py",
   "mimetype": "text/x-python",
   "name": "python",
   "nbconvert_exporter": "python",
   "pygments_lexer": "ipython3",
   "version": "3.7.12"
  }
 },
 "nbformat": 4,
 "nbformat_minor": 5
}
